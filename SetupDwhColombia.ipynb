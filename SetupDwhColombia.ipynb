{
 "cells": [
  {
   "cell_type": "code",
   "execution_count": 1,
   "id": "dcc21452-6153-4b3c-a004-06f881e5ead2",
   "metadata": {},
   "outputs": [],
   "source": [
    "class Singleton(type):\n",
    "    _instances = {}\n",
    "\n",
    "    def __call__(cls, *args, **kwargs):\n",
    "        if cls not in cls._instances:\n",
    "            cls._instances[cls] = super(Singleton, cls).__call__(*args, **kwargs)\n",
    "        return cls._instances[cls]"
   ]
  },
  {
   "cell_type": "code",
   "execution_count": 2,
   "id": "0fc7540a-bec7-4d5a-8607-46088c4136e0",
   "metadata": {},
   "outputs": [],
   "source": [
    "import sys\n",
    "import getpass\n",
    "import sqlalchemy as sa\n",
    "import urllib\n",
    "\n",
    "MY_USER = 'n1604989'\n",
    "DRIVER_NAME = \"ODBC Driver 18 for SQL Server\"\n",
    "SERVER_NAME = \"coawsprodsql04.libertycolombia.com\"\n",
    "DATA_BASE_NAME = 'Liberty'\n",
    "PORT = '1433'\n",
    "\n",
    "class ConectionSetup(metaclass=Singleton):\n",
    "\n",
    "    def __init__(self):\n",
    "        self.con = None\n",
    "        self.user = getpass.getuser()\n",
    "        self.get_connection()\n",
    "    \n",
    "    def get_connection(self):\n",
    "        if self.con is None or self.con._sock is None:\n",
    "            username = input(\"Enter User Name: \")\n",
    "            password = getpass.getpass(\"Enter Password: \")\n",
    "            params = urllib.parse.quote_plus(f\"DRIVER={DRIVER_NAME};\"\n",
    "                                 f\"SERVER={SERVER_NAME};\"\n",
    "                                 f\"DATABASE={DATA_BASE_NAME};\"\n",
    "                                 f\"UID={username};\"\n",
    "                                 f\"PWD={password}\")\n",
    "\n",
    "            engine = sa.create_engine(\"mssql+pyodbc:///?odbc_connect={}\".format(params))\n",
    "\n",
    "            self.con = engine.connect()\n",
    "            self.con.autocommit = True\n",
    "        return self.con\n",
    "   \n",
    "\n",
    "    def close_connection(self):\n",
    "        if self.con is not None:\n",
    "            self.con.close()"
   ]
  },
  {
   "cell_type": "code",
   "execution_count": null,
   "id": "2b119405-12c2-4624-b251-65adef782323",
   "metadata": {},
   "outputs": [],
   "source": []
  }
 ],
 "metadata": {
  "kernelspec": {
   "display_name": "base",
   "language": "python",
   "name": "python3"
  },
  "language_info": {
   "codemirror_mode": {
    "name": "ipython",
    "version": 3
   },
   "file_extension": ".py",
   "mimetype": "text/x-python",
   "name": "python",
   "nbconvert_exporter": "python",
   "pygments_lexer": "ipython3",
   "version": "3.8.5 (default, Sep  3 2020, 21:29:08) [MSC v.1916 64 bit (AMD64)]"
  },
  "vscode": {
   "interpreter": {
    "hash": "deb4792152b8b9767403eeef0a1b0f34b83d442136ccee9184cd7d1131f09aa0"
   }
  }
 },
 "nbformat": 4,
 "nbformat_minor": 5
}
